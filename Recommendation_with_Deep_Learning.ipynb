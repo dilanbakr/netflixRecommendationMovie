{
  "nbformat": 4,
  "nbformat_minor": 0,
  "metadata": {
    "colab": {
      "name": "Recommendation with Deep Learning.ipynb",
      "provenance": [],
      "collapsed_sections": [],
      "include_colab_link": true
    },
    "kernelspec": {
      "name": "python3",
      "display_name": "Python 3"
    },
    "accelerator": "GPU"
  },
  "cells": [
    {
      "cell_type": "markdown",
      "metadata": {
        "id": "view-in-github",
        "colab_type": "text"
      },
      "source": [
        "<a href=\"https://colab.research.google.com/github/dilanbakr/netflixRecommendationMovie/blob/main/Recommendation_with_Deep_Learning.ipynb\" target=\"_parent\"><img src=\"https://colab.research.google.com/assets/colab-badge.svg\" alt=\"Open In Colab\"/></a>"
      ]
    },
    {
      "cell_type": "code",
      "metadata": {
        "id": "13584FF1qFnY"
      },
      "source": [
        "import warnings\n",
        "warnings.filterwarnings('ignore')\n",
        "\n",
        "import io\n",
        "import os\n",
        "import copy\n",
        "import pickle\n",
        "import zipfile\n",
        "from urllib.error import URLError\n",
        "from urllib.request import urlopen\n",
        "from scipy import spatial"
      ],
      "execution_count": null,
      "outputs": []
    },
    {
      "cell_type": "code",
      "metadata": {
        "id": "Vz28jOxjrLCs"
      },
      "source": [
        "import numpy as np\n",
        "import pandas as pd\n",
        "import matplotlib.pyplot as plt\n",
        "from sklearn.model_selection import train_test_split"
      ],
      "execution_count": null,
      "outputs": []
    },
    {
      "cell_type": "code",
      "metadata": {
        "id": "WCP9mX50rVjU",
        "colab": {
          "base_uri": "https://localhost:8080/",
          "height": 79
        },
        "outputId": "54023eee-a990-4ac7-bded-c340c9466ae7"
      },
      "source": [
        "from keras.layers import Input, Dense, Embedding, Concatenate, Flatten, Dropout\n",
        "from keras.models import Model, Sequential\n",
        "from keras import optimizers"
      ],
      "execution_count": null,
      "outputs": [
        {
          "output_type": "stream",
          "text": [
            "Using TensorFlow backend.\n"
          ],
          "name": "stderr"
        },
        {
          "output_type": "display_data",
          "data": {
            "text/html": [
              "<p style=\"color: red;\">\n",
              "The default version of TensorFlow in Colab will soon switch to TensorFlow 2.x.<br>\n",
              "We recommend you <a href=\"https://www.tensorflow.org/guide/migrate\" target=\"_blank\">upgrade</a> now \n",
              "or ensure your notebook will continue to use TensorFlow 1.x via the <code>%tensorflow_version 1.x</code> magic:\n",
              "<a href=\"https://colab.research.google.com/notebooks/tensorflow_version.ipynb\" target=\"_blank\">more info</a>.</p>\n"
            ],
            "text/plain": [
              "<IPython.core.display.HTML object>"
            ]
          },
          "metadata": {
            "tags": []
          }
        }
      ]
    },
    {
      "cell_type": "code",
      "metadata": {
        "id": "O7Wi51yErdEQ"
      },
      "source": [
        "os.mkdir(\"Data\")"
      ],
      "execution_count": null,
      "outputs": []
    },
    {
      "cell_type": "code",
      "metadata": {
        "id": "EXgGwWbDsB-q"
      },
      "source": [
        "np.random.seed(5)"
      ],
      "execution_count": null,
      "outputs": []
    },
    {
      "cell_type": "code",
      "metadata": {
        "id": "Ok49-7jps2wx"
      },
      "source": [
        "def try_download(url, download_path):\n",
        "    archive_name = url.split('/')[-1]\n",
        "    folder_name, _ = os.path.splitext(archive_name)\n",
        "    \n",
        "    try:\n",
        "        r = urlopen(url)\n",
        "    except URLError as e:\n",
        "        print('Cannot download the data. Error: {0}'.format(e))\n",
        "        return \n",
        "\n",
        "    assert r.status == 200\n",
        "    data = r.read()\n",
        "\n",
        "    with zipfile.ZipFile(io.BytesIO(data)) as arch:\n",
        "        arch.extractall(download_path)\n",
        "        \n",
        "    print('The archive is extracted into folder: %s' % download_path)"
      ],
      "execution_count": null,
      "outputs": []
    },
    {
      "cell_type": "code",
      "metadata": {
        "id": "1egXBZWds5fW"
      },
      "source": [
        "def read_data(path):\n",
        "    files = {}\n",
        "    for filename in os.listdir(path):\n",
        "        if os.path.splitext(filename)[-1] == '.csv':\n",
        "            files[os.path.splitext(filename)[0]] = pd.read_csv(os.path.join(path,filename))\n",
        "        elif os.path.splitext(filename)[-1] == '.dat':\n",
        "            if os.path.splitext(filename)[0] == 'ratings':\n",
        "                columns = ['userId', 'movieId', 'rating', 'timestamp']\n",
        "            else:\n",
        "                columns = ['movieId', 'title', 'genres']\n",
        "            data = pd.read_csv(os.path.join(path,filename), sep='::', names=columns, engine='python')\n",
        "            files[os.path.splitext(filename)[0]] = data\n",
        "    return files['ratings'], files['movies']"
      ],
      "execution_count": null,
      "outputs": []
    },
    {
      "cell_type": "code",
      "metadata": {
        "id": "a1RLAXfgs7WG"
      },
      "source": [
        "archive_url = f'http://files.grouplens.org/datasets/movielens/ml-1m.zip'\n",
        "download_path = os.path.join(os.curdir, 'Data')"
      ],
      "execution_count": null,
      "outputs": []
    },
    {
      "cell_type": "code",
      "metadata": {
        "id": "T-Rlnc2vs-gK",
        "colab": {
          "base_uri": "https://localhost:8080/",
          "height": 34
        },
        "outputId": "f07375f2-d2fc-4bd4-ab48-fb2fcec24529"
      },
      "source": [
        "try_download(archive_url, download_path)"
      ],
      "execution_count": null,
      "outputs": [
        {
          "output_type": "stream",
          "text": [
            "The archive is extracted into folder: ./Data\n"
          ],
          "name": "stdout"
        }
      ]
    },
    {
      "cell_type": "code",
      "metadata": {
        "id": "LcikCrvFs__x"
      },
      "source": [
        "ratings, movies = read_data(os.path.join(download_path, 'ml-1m'))"
      ],
      "execution_count": null,
      "outputs": []
    },
    {
      "cell_type": "code",
      "metadata": {
        "id": "dZQlekEotCz6",
        "colab": {
          "base_uri": "https://localhost:8080/",
          "height": 195
        },
        "outputId": "a5aec1f4-9bb2-45e8-eb5e-73382d346310"
      },
      "source": [
        "ratings.head()"
      ],
      "execution_count": null,
      "outputs": [
        {
          "output_type": "execute_result",
          "data": {
            "text/html": [
              "<div>\n",
              "<style scoped>\n",
              "    .dataframe tbody tr th:only-of-type {\n",
              "        vertical-align: middle;\n",
              "    }\n",
              "\n",
              "    .dataframe tbody tr th {\n",
              "        vertical-align: top;\n",
              "    }\n",
              "\n",
              "    .dataframe thead th {\n",
              "        text-align: right;\n",
              "    }\n",
              "</style>\n",
              "<table border=\"1\" class=\"dataframe\">\n",
              "  <thead>\n",
              "    <tr style=\"text-align: right;\">\n",
              "      <th></th>\n",
              "      <th>userId</th>\n",
              "      <th>movieId</th>\n",
              "      <th>rating</th>\n",
              "      <th>timestamp</th>\n",
              "    </tr>\n",
              "  </thead>\n",
              "  <tbody>\n",
              "    <tr>\n",
              "      <th>0</th>\n",
              "      <td>1</td>\n",
              "      <td>1193</td>\n",
              "      <td>5</td>\n",
              "      <td>978300760</td>\n",
              "    </tr>\n",
              "    <tr>\n",
              "      <th>1</th>\n",
              "      <td>1</td>\n",
              "      <td>661</td>\n",
              "      <td>3</td>\n",
              "      <td>978302109</td>\n",
              "    </tr>\n",
              "    <tr>\n",
              "      <th>2</th>\n",
              "      <td>1</td>\n",
              "      <td>914</td>\n",
              "      <td>3</td>\n",
              "      <td>978301968</td>\n",
              "    </tr>\n",
              "    <tr>\n",
              "      <th>3</th>\n",
              "      <td>1</td>\n",
              "      <td>3408</td>\n",
              "      <td>4</td>\n",
              "      <td>978300275</td>\n",
              "    </tr>\n",
              "    <tr>\n",
              "      <th>4</th>\n",
              "      <td>1</td>\n",
              "      <td>2355</td>\n",
              "      <td>5</td>\n",
              "      <td>978824291</td>\n",
              "    </tr>\n",
              "  </tbody>\n",
              "</table>\n",
              "</div>"
            ],
            "text/plain": [
              "   userId  movieId  rating  timestamp\n",
              "0       1     1193       5  978300760\n",
              "1       1      661       3  978302109\n",
              "2       1      914       3  978301968\n",
              "3       1     3408       4  978300275\n",
              "4       1     2355       5  978824291"
            ]
          },
          "metadata": {
            "tags": []
          },
          "execution_count": 11
        }
      ]
    },
    {
      "cell_type": "code",
      "metadata": {
        "id": "AsQiTePntFUW",
        "colab": {
          "base_uri": "https://localhost:8080/",
          "height": 195
        },
        "outputId": "ce66e5fb-941f-4b52-a104-7b6decc8b8f4"
      },
      "source": [
        "movies.head()"
      ],
      "execution_count": null,
      "outputs": [
        {
          "output_type": "execute_result",
          "data": {
            "text/html": [
              "<div>\n",
              "<style scoped>\n",
              "    .dataframe tbody tr th:only-of-type {\n",
              "        vertical-align: middle;\n",
              "    }\n",
              "\n",
              "    .dataframe tbody tr th {\n",
              "        vertical-align: top;\n",
              "    }\n",
              "\n",
              "    .dataframe thead th {\n",
              "        text-align: right;\n",
              "    }\n",
              "</style>\n",
              "<table border=\"1\" class=\"dataframe\">\n",
              "  <thead>\n",
              "    <tr style=\"text-align: right;\">\n",
              "      <th></th>\n",
              "      <th>movieId</th>\n",
              "      <th>title</th>\n",
              "      <th>genres</th>\n",
              "    </tr>\n",
              "  </thead>\n",
              "  <tbody>\n",
              "    <tr>\n",
              "      <th>0</th>\n",
              "      <td>1</td>\n",
              "      <td>Toy Story (1995)</td>\n",
              "      <td>Animation|Children's|Comedy</td>\n",
              "    </tr>\n",
              "    <tr>\n",
              "      <th>1</th>\n",
              "      <td>2</td>\n",
              "      <td>Jumanji (1995)</td>\n",
              "      <td>Adventure|Children's|Fantasy</td>\n",
              "    </tr>\n",
              "    <tr>\n",
              "      <th>2</th>\n",
              "      <td>3</td>\n",
              "      <td>Grumpier Old Men (1995)</td>\n",
              "      <td>Comedy|Romance</td>\n",
              "    </tr>\n",
              "    <tr>\n",
              "      <th>3</th>\n",
              "      <td>4</td>\n",
              "      <td>Waiting to Exhale (1995)</td>\n",
              "      <td>Comedy|Drama</td>\n",
              "    </tr>\n",
              "    <tr>\n",
              "      <th>4</th>\n",
              "      <td>5</td>\n",
              "      <td>Father of the Bride Part II (1995)</td>\n",
              "      <td>Comedy</td>\n",
              "    </tr>\n",
              "  </tbody>\n",
              "</table>\n",
              "</div>"
            ],
            "text/plain": [
              "   movieId                               title                        genres\n",
              "0        1                    Toy Story (1995)   Animation|Children's|Comedy\n",
              "1        2                      Jumanji (1995)  Adventure|Children's|Fantasy\n",
              "2        3             Grumpier Old Men (1995)                Comedy|Romance\n",
              "3        4            Waiting to Exhale (1995)                  Comedy|Drama\n",
              "4        5  Father of the Bride Part II (1995)                        Comedy"
            ]
          },
          "metadata": {
            "tags": []
          },
          "execution_count": 12
        }
      ]
    },
    {
      "cell_type": "code",
      "metadata": {
        "id": "AyggSkRMtHVe"
      },
      "source": [
        "# ratings.groupby('userId')['rating'].count().sort_values(ascending=False)\n",
        "# ratings.groupby('movieId')['rating'].count().sort_values(ascending=False)"
      ],
      "execution_count": null,
      "outputs": []
    },
    {
      "cell_type": "code",
      "metadata": {
        "id": "Qe4MDxnwtJCu"
      },
      "source": [
        "def tabular_preview(ratings, n=15):\n",
        "    \"\"\"Creates a cross-tabular view of users vs movies.\"\"\"\n",
        "    \n",
        "    user_groups = ratings.groupby('userId')['rating'].count()\n",
        "    top_users = user_groups.sort_values(ascending=False)[:15]\n",
        "\n",
        "    movie_groups = ratings.groupby('movieId')['rating'].count()\n",
        "    top_movies = movie_groups.sort_values(ascending=False)[:15]\n",
        "\n",
        "    top = (\n",
        "        ratings.\n",
        "        join(top_users, rsuffix='_r', how='inner', on='userId').\n",
        "        join(top_movies, rsuffix='_r', how='inner', on='movieId'))\n",
        "\n",
        "    return pd.crosstab(top.userId, top.movieId, top.rating, aggfunc=np.sum)"
      ],
      "execution_count": null,
      "outputs": []
    },
    {
      "cell_type": "code",
      "metadata": {
        "id": "IRE88bK_tRh7",
        "colab": {
          "base_uri": "https://localhost:8080/",
          "height": 521
        },
        "outputId": "932103a2-2923-4991-e783-22bdacb6d298"
      },
      "source": [
        "tabular_preview(ratings, movies)"
      ],
      "execution_count": null,
      "outputs": [
        {
          "output_type": "execute_result",
          "data": {
            "text/html": [
              "<div>\n",
              "<style scoped>\n",
              "    .dataframe tbody tr th:only-of-type {\n",
              "        vertical-align: middle;\n",
              "    }\n",
              "\n",
              "    .dataframe tbody tr th {\n",
              "        vertical-align: top;\n",
              "    }\n",
              "\n",
              "    .dataframe thead th {\n",
              "        text-align: right;\n",
              "    }\n",
              "</style>\n",
              "<table border=\"1\" class=\"dataframe\">\n",
              "  <thead>\n",
              "    <tr style=\"text-align: right;\">\n",
              "      <th>movieId</th>\n",
              "      <th>110</th>\n",
              "      <th>260</th>\n",
              "      <th>480</th>\n",
              "      <th>589</th>\n",
              "      <th>593</th>\n",
              "      <th>608</th>\n",
              "      <th>1196</th>\n",
              "      <th>1198</th>\n",
              "      <th>1210</th>\n",
              "      <th>1270</th>\n",
              "      <th>1580</th>\n",
              "      <th>2028</th>\n",
              "      <th>2571</th>\n",
              "      <th>2762</th>\n",
              "      <th>2858</th>\n",
              "    </tr>\n",
              "    <tr>\n",
              "      <th>userId</th>\n",
              "      <th></th>\n",
              "      <th></th>\n",
              "      <th></th>\n",
              "      <th></th>\n",
              "      <th></th>\n",
              "      <th></th>\n",
              "      <th></th>\n",
              "      <th></th>\n",
              "      <th></th>\n",
              "      <th></th>\n",
              "      <th></th>\n",
              "      <th></th>\n",
              "      <th></th>\n",
              "      <th></th>\n",
              "      <th></th>\n",
              "    </tr>\n",
              "  </thead>\n",
              "  <tbody>\n",
              "    <tr>\n",
              "      <th>889</th>\n",
              "      <td>4.0</td>\n",
              "      <td>4.0</td>\n",
              "      <td>3.0</td>\n",
              "      <td>5.0</td>\n",
              "      <td>5.0</td>\n",
              "      <td>4.0</td>\n",
              "      <td>4.0</td>\n",
              "      <td>NaN</td>\n",
              "      <td>3.0</td>\n",
              "      <td>4.0</td>\n",
              "      <td>3.0</td>\n",
              "      <td>3.0</td>\n",
              "      <td>5.0</td>\n",
              "      <td>NaN</td>\n",
              "      <td>2.0</td>\n",
              "    </tr>\n",
              "    <tr>\n",
              "      <th>1015</th>\n",
              "      <td>4.0</td>\n",
              "      <td>5.0</td>\n",
              "      <td>4.0</td>\n",
              "      <td>5.0</td>\n",
              "      <td>5.0</td>\n",
              "      <td>5.0</td>\n",
              "      <td>4.0</td>\n",
              "      <td>5.0</td>\n",
              "      <td>4.0</td>\n",
              "      <td>4.0</td>\n",
              "      <td>4.0</td>\n",
              "      <td>5.0</td>\n",
              "      <td>5.0</td>\n",
              "      <td>5.0</td>\n",
              "      <td>4.0</td>\n",
              "    </tr>\n",
              "    <tr>\n",
              "      <th>1150</th>\n",
              "      <td>2.0</td>\n",
              "      <td>5.0</td>\n",
              "      <td>NaN</td>\n",
              "      <td>2.0</td>\n",
              "      <td>3.0</td>\n",
              "      <td>5.0</td>\n",
              "      <td>4.0</td>\n",
              "      <td>2.0</td>\n",
              "      <td>3.0</td>\n",
              "      <td>2.0</td>\n",
              "      <td>2.0</td>\n",
              "      <td>2.0</td>\n",
              "      <td>1.0</td>\n",
              "      <td>2.0</td>\n",
              "      <td>4.0</td>\n",
              "    </tr>\n",
              "    <tr>\n",
              "      <th>1181</th>\n",
              "      <td>3.0</td>\n",
              "      <td>4.0</td>\n",
              "      <td>2.0</td>\n",
              "      <td>5.0</td>\n",
              "      <td>3.0</td>\n",
              "      <td>3.0</td>\n",
              "      <td>4.0</td>\n",
              "      <td>3.0</td>\n",
              "      <td>3.0</td>\n",
              "      <td>3.0</td>\n",
              "      <td>4.0</td>\n",
              "      <td>4.0</td>\n",
              "      <td>5.0</td>\n",
              "      <td>4.0</td>\n",
              "      <td>3.0</td>\n",
              "    </tr>\n",
              "    <tr>\n",
              "      <th>1449</th>\n",
              "      <td>3.0</td>\n",
              "      <td>3.0</td>\n",
              "      <td>2.0</td>\n",
              "      <td>2.0</td>\n",
              "      <td>5.0</td>\n",
              "      <td>5.0</td>\n",
              "      <td>3.0</td>\n",
              "      <td>4.0</td>\n",
              "      <td>2.0</td>\n",
              "      <td>2.0</td>\n",
              "      <td>4.0</td>\n",
              "      <td>3.0</td>\n",
              "      <td>4.0</td>\n",
              "      <td>4.0</td>\n",
              "      <td>4.0</td>\n",
              "    </tr>\n",
              "    <tr>\n",
              "      <th>1680</th>\n",
              "      <td>1.0</td>\n",
              "      <td>2.0</td>\n",
              "      <td>5.0</td>\n",
              "      <td>5.0</td>\n",
              "      <td>5.0</td>\n",
              "      <td>5.0</td>\n",
              "      <td>5.0</td>\n",
              "      <td>5.0</td>\n",
              "      <td>3.0</td>\n",
              "      <td>3.0</td>\n",
              "      <td>4.0</td>\n",
              "      <td>5.0</td>\n",
              "      <td>3.0</td>\n",
              "      <td>5.0</td>\n",
              "      <td>5.0</td>\n",
              "    </tr>\n",
              "    <tr>\n",
              "      <th>1941</th>\n",
              "      <td>5.0</td>\n",
              "      <td>5.0</td>\n",
              "      <td>5.0</td>\n",
              "      <td>3.0</td>\n",
              "      <td>5.0</td>\n",
              "      <td>4.0</td>\n",
              "      <td>5.0</td>\n",
              "      <td>5.0</td>\n",
              "      <td>5.0</td>\n",
              "      <td>5.0</td>\n",
              "      <td>5.0</td>\n",
              "      <td>5.0</td>\n",
              "      <td>3.0</td>\n",
              "      <td>5.0</td>\n",
              "      <td>1.0</td>\n",
              "    </tr>\n",
              "    <tr>\n",
              "      <th>1980</th>\n",
              "      <td>4.0</td>\n",
              "      <td>4.0</td>\n",
              "      <td>4.0</td>\n",
              "      <td>4.0</td>\n",
              "      <td>5.0</td>\n",
              "      <td>5.0</td>\n",
              "      <td>4.0</td>\n",
              "      <td>5.0</td>\n",
              "      <td>4.0</td>\n",
              "      <td>5.0</td>\n",
              "      <td>4.0</td>\n",
              "      <td>5.0</td>\n",
              "      <td>5.0</td>\n",
              "      <td>5.0</td>\n",
              "      <td>5.0</td>\n",
              "    </tr>\n",
              "    <tr>\n",
              "      <th>2063</th>\n",
              "      <td>5.0</td>\n",
              "      <td>4.0</td>\n",
              "      <td>4.0</td>\n",
              "      <td>2.0</td>\n",
              "      <td>5.0</td>\n",
              "      <td>2.0</td>\n",
              "      <td>4.0</td>\n",
              "      <td>4.0</td>\n",
              "      <td>4.0</td>\n",
              "      <td>4.0</td>\n",
              "      <td>3.0</td>\n",
              "      <td>2.0</td>\n",
              "      <td>5.0</td>\n",
              "      <td>4.0</td>\n",
              "      <td>5.0</td>\n",
              "    </tr>\n",
              "    <tr>\n",
              "      <th>2909</th>\n",
              "      <td>5.0</td>\n",
              "      <td>5.0</td>\n",
              "      <td>5.0</td>\n",
              "      <td>4.0</td>\n",
              "      <td>5.0</td>\n",
              "      <td>5.0</td>\n",
              "      <td>5.0</td>\n",
              "      <td>5.0</td>\n",
              "      <td>5.0</td>\n",
              "      <td>5.0</td>\n",
              "      <td>5.0</td>\n",
              "      <td>5.0</td>\n",
              "      <td>4.0</td>\n",
              "      <td>5.0</td>\n",
              "      <td>5.0</td>\n",
              "    </tr>\n",
              "    <tr>\n",
              "      <th>3618</th>\n",
              "      <td>3.0</td>\n",
              "      <td>4.0</td>\n",
              "      <td>4.0</td>\n",
              "      <td>3.0</td>\n",
              "      <td>5.0</td>\n",
              "      <td>4.0</td>\n",
              "      <td>3.0</td>\n",
              "      <td>4.0</td>\n",
              "      <td>3.0</td>\n",
              "      <td>4.0</td>\n",
              "      <td>3.0</td>\n",
              "      <td>3.0</td>\n",
              "      <td>3.0</td>\n",
              "      <td>4.0</td>\n",
              "      <td>4.0</td>\n",
              "    </tr>\n",
              "    <tr>\n",
              "      <th>4169</th>\n",
              "      <td>4.0</td>\n",
              "      <td>5.0</td>\n",
              "      <td>5.0</td>\n",
              "      <td>4.0</td>\n",
              "      <td>5.0</td>\n",
              "      <td>5.0</td>\n",
              "      <td>5.0</td>\n",
              "      <td>5.0</td>\n",
              "      <td>5.0</td>\n",
              "      <td>4.0</td>\n",
              "      <td>4.0</td>\n",
              "      <td>5.0</td>\n",
              "      <td>4.0</td>\n",
              "      <td>5.0</td>\n",
              "      <td>5.0</td>\n",
              "    </tr>\n",
              "    <tr>\n",
              "      <th>4277</th>\n",
              "      <td>5.0</td>\n",
              "      <td>5.0</td>\n",
              "      <td>5.0</td>\n",
              "      <td>5.0</td>\n",
              "      <td>5.0</td>\n",
              "      <td>5.0</td>\n",
              "      <td>5.0</td>\n",
              "      <td>5.0</td>\n",
              "      <td>4.0</td>\n",
              "      <td>5.0</td>\n",
              "      <td>4.0</td>\n",
              "      <td>5.0</td>\n",
              "      <td>5.0</td>\n",
              "      <td>5.0</td>\n",
              "      <td>5.0</td>\n",
              "    </tr>\n",
              "    <tr>\n",
              "      <th>4344</th>\n",
              "      <td>5.0</td>\n",
              "      <td>5.0</td>\n",
              "      <td>4.0</td>\n",
              "      <td>4.0</td>\n",
              "      <td>2.0</td>\n",
              "      <td>5.0</td>\n",
              "      <td>5.0</td>\n",
              "      <td>5.0</td>\n",
              "      <td>5.0</td>\n",
              "      <td>4.0</td>\n",
              "      <td>3.0</td>\n",
              "      <td>2.0</td>\n",
              "      <td>5.0</td>\n",
              "      <td>5.0</td>\n",
              "      <td>5.0</td>\n",
              "    </tr>\n",
              "    <tr>\n",
              "      <th>5795</th>\n",
              "      <td>5.0</td>\n",
              "      <td>5.0</td>\n",
              "      <td>5.0</td>\n",
              "      <td>4.0</td>\n",
              "      <td>5.0</td>\n",
              "      <td>4.0</td>\n",
              "      <td>5.0</td>\n",
              "      <td>5.0</td>\n",
              "      <td>4.0</td>\n",
              "      <td>5.0</td>\n",
              "      <td>1.0</td>\n",
              "      <td>5.0</td>\n",
              "      <td>1.0</td>\n",
              "      <td>2.0</td>\n",
              "      <td>5.0</td>\n",
              "    </tr>\n",
              "  </tbody>\n",
              "</table>\n",
              "</div>"
            ],
            "text/plain": [
              "movieId  110   260   480   589   593   608   ...  1270  1580  2028  2571  2762  2858\n",
              "userId                                       ...                                    \n",
              "889       4.0   4.0   3.0   5.0   5.0   4.0  ...   4.0   3.0   3.0   5.0   NaN   2.0\n",
              "1015      4.0   5.0   4.0   5.0   5.0   5.0  ...   4.0   4.0   5.0   5.0   5.0   4.0\n",
              "1150      2.0   5.0   NaN   2.0   3.0   5.0  ...   2.0   2.0   2.0   1.0   2.0   4.0\n",
              "1181      3.0   4.0   2.0   5.0   3.0   3.0  ...   3.0   4.0   4.0   5.0   4.0   3.0\n",
              "1449      3.0   3.0   2.0   2.0   5.0   5.0  ...   2.0   4.0   3.0   4.0   4.0   4.0\n",
              "1680      1.0   2.0   5.0   5.0   5.0   5.0  ...   3.0   4.0   5.0   3.0   5.0   5.0\n",
              "1941      5.0   5.0   5.0   3.0   5.0   4.0  ...   5.0   5.0   5.0   3.0   5.0   1.0\n",
              "1980      4.0   4.0   4.0   4.0   5.0   5.0  ...   5.0   4.0   5.0   5.0   5.0   5.0\n",
              "2063      5.0   4.0   4.0   2.0   5.0   2.0  ...   4.0   3.0   2.0   5.0   4.0   5.0\n",
              "2909      5.0   5.0   5.0   4.0   5.0   5.0  ...   5.0   5.0   5.0   4.0   5.0   5.0\n",
              "3618      3.0   4.0   4.0   3.0   5.0   4.0  ...   4.0   3.0   3.0   3.0   4.0   4.0\n",
              "4169      4.0   5.0   5.0   4.0   5.0   5.0  ...   4.0   4.0   5.0   4.0   5.0   5.0\n",
              "4277      5.0   5.0   5.0   5.0   5.0   5.0  ...   5.0   4.0   5.0   5.0   5.0   5.0\n",
              "4344      5.0   5.0   4.0   4.0   2.0   5.0  ...   4.0   3.0   2.0   5.0   5.0   5.0\n",
              "5795      5.0   5.0   5.0   4.0   5.0   4.0  ...   5.0   1.0   5.0   1.0   2.0   5.0\n",
              "\n",
              "[15 rows x 15 columns]"
            ]
          },
          "metadata": {
            "tags": []
          },
          "execution_count": 15
        }
      ]
    },
    {
      "cell_type": "code",
      "metadata": {
        "id": "hywVFMhytS5a",
        "colab": {
          "base_uri": "https://localhost:8080/",
          "height": 34
        },
        "outputId": "1f11e101-6323-4947-d855-0f21d0872524"
      },
      "source": [
        "ratings = pd.merge(ratings, movies, on=\"movieId\")\n",
        "ratings.shape"
      ],
      "execution_count": null,
      "outputs": [
        {
          "output_type": "execute_result",
          "data": {
            "text/plain": [
              "(1000209, 6)"
            ]
          },
          "metadata": {
            "tags": []
          },
          "execution_count": 16
        }
      ]
    },
    {
      "cell_type": "code",
      "metadata": {
        "id": "rvh90zWPte1R",
        "colab": {
          "base_uri": "https://localhost:8080/",
          "height": 195
        },
        "outputId": "2b234f17-ec9d-4456-ca1d-0f61916df12a"
      },
      "source": [
        "ratings.head()"
      ],
      "execution_count": null,
      "outputs": [
        {
          "output_type": "execute_result",
          "data": {
            "text/html": [
              "<div>\n",
              "<style scoped>\n",
              "    .dataframe tbody tr th:only-of-type {\n",
              "        vertical-align: middle;\n",
              "    }\n",
              "\n",
              "    .dataframe tbody tr th {\n",
              "        vertical-align: top;\n",
              "    }\n",
              "\n",
              "    .dataframe thead th {\n",
              "        text-align: right;\n",
              "    }\n",
              "</style>\n",
              "<table border=\"1\" class=\"dataframe\">\n",
              "  <thead>\n",
              "    <tr style=\"text-align: right;\">\n",
              "      <th></th>\n",
              "      <th>userId</th>\n",
              "      <th>movieId</th>\n",
              "      <th>rating</th>\n",
              "      <th>timestamp</th>\n",
              "      <th>title</th>\n",
              "      <th>genres</th>\n",
              "    </tr>\n",
              "  </thead>\n",
              "  <tbody>\n",
              "    <tr>\n",
              "      <th>0</th>\n",
              "      <td>1</td>\n",
              "      <td>1193</td>\n",
              "      <td>5</td>\n",
              "      <td>978300760</td>\n",
              "      <td>One Flew Over the Cuckoo's Nest (1975)</td>\n",
              "      <td>Drama</td>\n",
              "    </tr>\n",
              "    <tr>\n",
              "      <th>1</th>\n",
              "      <td>2</td>\n",
              "      <td>1193</td>\n",
              "      <td>5</td>\n",
              "      <td>978298413</td>\n",
              "      <td>One Flew Over the Cuckoo's Nest (1975)</td>\n",
              "      <td>Drama</td>\n",
              "    </tr>\n",
              "    <tr>\n",
              "      <th>2</th>\n",
              "      <td>12</td>\n",
              "      <td>1193</td>\n",
              "      <td>4</td>\n",
              "      <td>978220179</td>\n",
              "      <td>One Flew Over the Cuckoo's Nest (1975)</td>\n",
              "      <td>Drama</td>\n",
              "    </tr>\n",
              "    <tr>\n",
              "      <th>3</th>\n",
              "      <td>15</td>\n",
              "      <td>1193</td>\n",
              "      <td>4</td>\n",
              "      <td>978199279</td>\n",
              "      <td>One Flew Over the Cuckoo's Nest (1975)</td>\n",
              "      <td>Drama</td>\n",
              "    </tr>\n",
              "    <tr>\n",
              "      <th>4</th>\n",
              "      <td>17</td>\n",
              "      <td>1193</td>\n",
              "      <td>5</td>\n",
              "      <td>978158471</td>\n",
              "      <td>One Flew Over the Cuckoo's Nest (1975)</td>\n",
              "      <td>Drama</td>\n",
              "    </tr>\n",
              "  </tbody>\n",
              "</table>\n",
              "</div>"
            ],
            "text/plain": [
              "   userId  movieId  ...                                   title  genres\n",
              "0       1     1193  ...  One Flew Over the Cuckoo's Nest (1975)   Drama\n",
              "1       2     1193  ...  One Flew Over the Cuckoo's Nest (1975)   Drama\n",
              "2      12     1193  ...  One Flew Over the Cuckoo's Nest (1975)   Drama\n",
              "3      15     1193  ...  One Flew Over the Cuckoo's Nest (1975)   Drama\n",
              "4      17     1193  ...  One Flew Over the Cuckoo's Nest (1975)   Drama\n",
              "\n",
              "[5 rows x 6 columns]"
            ]
          },
          "metadata": {
            "tags": []
          },
          "execution_count": 17
        }
      ]
    },
    {
      "cell_type": "code",
      "metadata": {
        "id": "RqtYD7cStgbh"
      },
      "source": [
        "def create_dataset(ratings, top=None):\n",
        "    if top is not None:\n",
        "        ratings.groupby('userId')['rating'].count()\n",
        "    \n",
        "    unique_users = ratings.userId.unique()\n",
        "    user_to_index = {old: new for new, old in enumerate(unique_users)}\n",
        "    new_users = ratings.userId.map(user_to_index)\n",
        "    \n",
        "    unique_movies = ratings.movieId.unique()\n",
        "    movie_to_index = {old: new for new, old in enumerate(unique_movies)}\n",
        "    new_movies = ratings.movieId.map(movie_to_index)\n",
        "    \n",
        "    n_users = unique_users.shape[0]\n",
        "    n_movies = unique_movies.shape[0]\n",
        "    \n",
        "    X = pd.DataFrame({'user_id': new_users, 'movie_id': new_movies})\n",
        "    y = ratings['rating'].astype(np.float32)\n",
        "    return (n_users, n_movies), (X, y), (user_to_index, movie_to_index)"
      ],
      "execution_count": null,
      "outputs": []
    },
    {
      "cell_type": "code",
      "metadata": {
        "id": "vM0EEyqgtjHZ",
        "colab": {
          "base_uri": "https://localhost:8080/",
          "height": 67
        },
        "outputId": "60106989-b06e-40ba-c1e5-0ca5219b5551"
      },
      "source": [
        "(n, m), (X, y), (user_to_index, movie_to_index) = create_dataset(ratings)\n",
        "print(f'Embeddings: {n} users, {m} movies')\n",
        "print(f'Dataset shape: {X.shape}')\n",
        "print(f'Target shape: {y.shape}')"
      ],
      "execution_count": null,
      "outputs": [
        {
          "output_type": "stream",
          "text": [
            "Embeddings: 6040 users, 3706 movies\n",
            "Dataset shape: (1000209, 2)\n",
            "Target shape: (1000209,)\n"
          ],
          "name": "stdout"
        }
      ]
    },
    {
      "cell_type": "code",
      "metadata": {
        "id": "BZWQP7Eu3A9N"
      },
      "source": [
        "from sklearn.preprocessing import MinMaxScaler\n",
        "scaler = MinMaxScaler(feature_range=(0,1))\n",
        "y_normalized = scaler.fit_transform(y.to_numpy().reshape(-1, 1))\n",
        "y_normalized = y_normalized.ravel()"
      ],
      "execution_count": null,
      "outputs": []
    },
    {
      "cell_type": "code",
      "metadata": {
        "id": "lYvw1Hi_tl-N",
        "colab": {
          "base_uri": "https://localhost:8080/",
          "height": 34
        },
        "outputId": "26e8a656-e718-4bee-fa8a-d7f46f46f59e"
      },
      "source": [
        "y_normalized"
      ],
      "execution_count": null,
      "outputs": [
        {
          "output_type": "execute_result",
          "data": {
            "text/plain": [
              "array([1.  , 1.  , 0.75, ..., 0.  , 1.  , 0.75], dtype=float32)"
            ]
          },
          "metadata": {
            "tags": []
          },
          "execution_count": 22
        }
      ]
    },
    {
      "cell_type": "markdown",
      "metadata": {
        "id": "lTWzifqUtqT8"
      },
      "source": [
        "# Creating The Model"
      ]
    },
    {
      "cell_type": "code",
      "metadata": {
        "id": "FjMBI033tuj5",
        "colab": {
          "base_uri": "https://localhost:8080/",
          "height": 255
        },
        "outputId": "d51fb48b-6134-46b9-e5bf-0dd2d9ab1e95"
      },
      "source": [
        "input_user = Input(shape=(1,), dtype='int32', name='user_input')\n",
        "input_movie = Input(shape=(1,), dtype='int32', name='movie_input')\n",
        "\n",
        "x_1 = Embedding(output_dim=50, input_dim=n, input_length=1, name=\"user_embeddings\")(input_user)\n",
        "x_2 = Embedding(output_dim=50, input_dim=m, input_length=1, name=\"movie_embeddings\")(input_movie)\n",
        "\n",
        "x = Concatenate()([x_1, x_2])\n",
        "x1_f = Flatten()(x)\n",
        "x1 = Dropout(0.05)(x1_f)\n",
        "x2_f = Dense(300, activation='relu')(x1)\n",
        "x2 = Dropout(0.5)(x2_f)\n",
        "x3_f = Dense(300, activation='relu')(x2)\n",
        "x3 = Dropout(0.5)(x3_f)\n",
        "x4 = Dense(300, activation='relu')(x3)\n",
        "x4_f = Dropout(0.25)(x4)\n",
        "pred = Dense(1, activation='linear')(x4_f)\n",
        "\n",
        "model = Model(inputs=[input_user, input_movie], outputs=pred)\n",
        "model.compile(optimizer='adam',\n",
        "              loss='mean_squared_error',\n",
        "              metrics=['mse'])"
      ],
      "execution_count": null,
      "outputs": [
        {
          "output_type": "stream",
          "text": [
            "WARNING:tensorflow:From /usr/local/lib/python3.6/dist-packages/keras/backend/tensorflow_backend.py:541: The name tf.placeholder is deprecated. Please use tf.compat.v1.placeholder instead.\n",
            "\n",
            "WARNING:tensorflow:From /usr/local/lib/python3.6/dist-packages/keras/backend/tensorflow_backend.py:4432: The name tf.random_uniform is deprecated. Please use tf.random.uniform instead.\n",
            "\n",
            "WARNING:tensorflow:From /usr/local/lib/python3.6/dist-packages/keras/backend/tensorflow_backend.py:66: The name tf.get_default_graph is deprecated. Please use tf.compat.v1.get_default_graph instead.\n",
            "\n",
            "WARNING:tensorflow:From /usr/local/lib/python3.6/dist-packages/keras/backend/tensorflow_backend.py:148: The name tf.placeholder_with_default is deprecated. Please use tf.compat.v1.placeholder_with_default instead.\n",
            "\n",
            "WARNING:tensorflow:From /usr/local/lib/python3.6/dist-packages/keras/backend/tensorflow_backend.py:3733: calling dropout (from tensorflow.python.ops.nn_ops) with keep_prob is deprecated and will be removed in a future version.\n",
            "Instructions for updating:\n",
            "Please use `rate` instead of `keep_prob`. Rate should be set to `rate = 1 - keep_prob`.\n",
            "WARNING:tensorflow:From /usr/local/lib/python3.6/dist-packages/keras/optimizers.py:793: The name tf.train.Optimizer is deprecated. Please use tf.compat.v1.train.Optimizer instead.\n",
            "\n"
          ],
          "name": "stdout"
        }
      ]
    },
    {
      "cell_type": "code",
      "metadata": {
        "id": "QsNTZagPtxRo",
        "colab": {
          "base_uri": "https://localhost:8080/",
          "height": 638
        },
        "outputId": "60c6c804-a0a8-4831-fcd6-d68cb5f1f80a"
      },
      "source": [
        "model.summary()"
      ],
      "execution_count": null,
      "outputs": [
        {
          "output_type": "stream",
          "text": [
            "Model: \"model_1\"\n",
            "__________________________________________________________________________________________________\n",
            "Layer (type)                    Output Shape         Param #     Connected to                     \n",
            "==================================================================================================\n",
            "user_input (InputLayer)         (None, 1)            0                                            \n",
            "__________________________________________________________________________________________________\n",
            "movie_input (InputLayer)        (None, 1)            0                                            \n",
            "__________________________________________________________________________________________________\n",
            "user_embeddings (Embedding)     (None, 1, 50)        302000      user_input[0][0]                 \n",
            "__________________________________________________________________________________________________\n",
            "movie_embeddings (Embedding)    (None, 1, 50)        185300      movie_input[0][0]                \n",
            "__________________________________________________________________________________________________\n",
            "concatenate_1 (Concatenate)     (None, 1, 100)       0           user_embeddings[0][0]            \n",
            "                                                                 movie_embeddings[0][0]           \n",
            "__________________________________________________________________________________________________\n",
            "flatten_1 (Flatten)             (None, 100)          0           concatenate_1[0][0]              \n",
            "__________________________________________________________________________________________________\n",
            "dropout_1 (Dropout)             (None, 100)          0           flatten_1[0][0]                  \n",
            "__________________________________________________________________________________________________\n",
            "dense_1 (Dense)                 (None, 300)          30300       dropout_1[0][0]                  \n",
            "__________________________________________________________________________________________________\n",
            "dropout_2 (Dropout)             (None, 300)          0           dense_1[0][0]                    \n",
            "__________________________________________________________________________________________________\n",
            "dense_2 (Dense)                 (None, 300)          90300       dropout_2[0][0]                  \n",
            "__________________________________________________________________________________________________\n",
            "dropout_3 (Dropout)             (None, 300)          0           dense_2[0][0]                    \n",
            "__________________________________________________________________________________________________\n",
            "dense_3 (Dense)                 (None, 300)          90300       dropout_3[0][0]                  \n",
            "__________________________________________________________________________________________________\n",
            "dropout_4 (Dropout)             (None, 300)          0           dense_3[0][0]                    \n",
            "__________________________________________________________________________________________________\n",
            "dense_4 (Dense)                 (None, 1)            301         dropout_4[0][0]                  \n",
            "==================================================================================================\n",
            "Total params: 698,501\n",
            "Trainable params: 698,501\n",
            "Non-trainable params: 0\n",
            "__________________________________________________________________________________________________\n"
          ],
          "name": "stdout"
        }
      ]
    },
    {
      "cell_type": "code",
      "metadata": {
        "id": "eIeCUPmmt2EW",
        "colab": {
          "base_uri": "https://localhost:8080/",
          "height": 675
        },
        "outputId": "dd46df3c-201f-4615-d7a0-73331c38888d"
      },
      "source": [
        "model.fit([X.user_id.to_numpy(), X.movie_id.to_numpy()], y_normalized,\n",
        "          epochs=10,\n",
        "          batch_size=256,\n",
        "          validation_split=0.25\n",
        "          )"
      ],
      "execution_count": null,
      "outputs": [
        {
          "output_type": "stream",
          "text": [
            "WARNING:tensorflow:From /usr/local/lib/python3.6/dist-packages/keras/backend/tensorflow_backend.py:1033: The name tf.assign_add is deprecated. Please use tf.compat.v1.assign_add instead.\n",
            "\n",
            "WARNING:tensorflow:From /usr/local/lib/python3.6/dist-packages/keras/backend/tensorflow_backend.py:1020: The name tf.assign is deprecated. Please use tf.compat.v1.assign instead.\n",
            "\n",
            "WARNING:tensorflow:From /usr/local/lib/python3.6/dist-packages/keras/backend/tensorflow_backend.py:3005: The name tf.Session is deprecated. Please use tf.compat.v1.Session instead.\n",
            "\n",
            "Train on 750156 samples, validate on 250053 samples\n",
            "Epoch 1/10\n",
            "WARNING:tensorflow:From /usr/local/lib/python3.6/dist-packages/keras/backend/tensorflow_backend.py:190: The name tf.get_default_session is deprecated. Please use tf.compat.v1.get_default_session instead.\n",
            "\n",
            "WARNING:tensorflow:From /usr/local/lib/python3.6/dist-packages/keras/backend/tensorflow_backend.py:197: The name tf.ConfigProto is deprecated. Please use tf.compat.v1.ConfigProto instead.\n",
            "\n",
            "WARNING:tensorflow:From /usr/local/lib/python3.6/dist-packages/keras/backend/tensorflow_backend.py:207: The name tf.global_variables is deprecated. Please use tf.compat.v1.global_variables instead.\n",
            "\n",
            "WARNING:tensorflow:From /usr/local/lib/python3.6/dist-packages/keras/backend/tensorflow_backend.py:216: The name tf.is_variable_initialized is deprecated. Please use tf.compat.v1.is_variable_initialized instead.\n",
            "\n",
            "WARNING:tensorflow:From /usr/local/lib/python3.6/dist-packages/keras/backend/tensorflow_backend.py:223: The name tf.variables_initializer is deprecated. Please use tf.compat.v1.variables_initializer instead.\n",
            "\n",
            "750156/750156 [==============================] - 28s 38us/step - loss: 0.0577 - mean_squared_error: 0.0577 - val_loss: 0.0792 - val_mean_squared_error: 0.0792\n",
            "Epoch 2/10\n",
            "750156/750156 [==============================] - 23s 30us/step - loss: 0.0523 - mean_squared_error: 0.0523 - val_loss: 0.0808 - val_mean_squared_error: 0.0808\n",
            "Epoch 3/10\n",
            "750156/750156 [==============================] - 22s 30us/step - loss: 0.0502 - mean_squared_error: 0.0502 - val_loss: 0.0794 - val_mean_squared_error: 0.0794\n",
            "Epoch 4/10\n",
            "750156/750156 [==============================] - 22s 30us/step - loss: 0.0488 - mean_squared_error: 0.0488 - val_loss: 0.0796 - val_mean_squared_error: 0.0796\n",
            "Epoch 5/10\n",
            "750156/750156 [==============================] - 22s 30us/step - loss: 0.0479 - mean_squared_error: 0.0479 - val_loss: 0.0795 - val_mean_squared_error: 0.0795\n",
            "Epoch 6/10\n",
            "750156/750156 [==============================] - 22s 30us/step - loss: 0.0471 - mean_squared_error: 0.0471 - val_loss: 0.0795 - val_mean_squared_error: 0.0795\n",
            "Epoch 7/10\n",
            "750156/750156 [==============================] - 22s 30us/step - loss: 0.0461 - mean_squared_error: 0.0461 - val_loss: 0.0802 - val_mean_squared_error: 0.0802\n",
            "Epoch 8/10\n",
            "750156/750156 [==============================] - 23s 31us/step - loss: 0.0452 - mean_squared_error: 0.0452 - val_loss: 0.0789 - val_mean_squared_error: 0.0789\n",
            "Epoch 9/10\n",
            "750156/750156 [==============================] - 23s 30us/step - loss: 0.0445 - mean_squared_error: 0.0445 - val_loss: 0.0788 - val_mean_squared_error: 0.0788\n",
            "Epoch 10/10\n",
            "750156/750156 [==============================] - 22s 30us/step - loss: 0.0438 - mean_squared_error: 0.0438 - val_loss: 0.0793 - val_mean_squared_error: 0.0793\n"
          ],
          "name": "stdout"
        },
        {
          "output_type": "execute_result",
          "data": {
            "text/plain": [
              "<keras.callbacks.History at 0x7f3e18bd15c0>"
            ]
          },
          "metadata": {
            "tags": []
          },
          "execution_count": 25
        }
      ]
    },
    {
      "cell_type": "code",
      "metadata": {
        "id": "sF02uedtt5-d"
      },
      "source": [
        "ratings[\"user_id_index\"] = ratings[\"userId\"].apply(lambda x: user_to_index[x])"
      ],
      "execution_count": null,
      "outputs": []
    },
    {
      "cell_type": "code",
      "metadata": {
        "id": "SWX167nRwaVr"
      },
      "source": [
        "ratings[\"movie_id_index\"] = ratings[\"movieId\"].apply(lambda x: movie_to_index[x])"
      ],
      "execution_count": null,
      "outputs": []
    },
    {
      "cell_type": "code",
      "metadata": {
        "id": "fju2zT7fwb5G",
        "colab": {
          "base_uri": "https://localhost:8080/",
          "height": 195
        },
        "outputId": "7275cca5-9180-4f43-c1e9-5a22f211a253"
      },
      "source": [
        "ratings.head()"
      ],
      "execution_count": null,
      "outputs": [
        {
          "output_type": "execute_result",
          "data": {
            "text/html": [
              "<div>\n",
              "<style scoped>\n",
              "    .dataframe tbody tr th:only-of-type {\n",
              "        vertical-align: middle;\n",
              "    }\n",
              "\n",
              "    .dataframe tbody tr th {\n",
              "        vertical-align: top;\n",
              "    }\n",
              "\n",
              "    .dataframe thead th {\n",
              "        text-align: right;\n",
              "    }\n",
              "</style>\n",
              "<table border=\"1\" class=\"dataframe\">\n",
              "  <thead>\n",
              "    <tr style=\"text-align: right;\">\n",
              "      <th></th>\n",
              "      <th>userId</th>\n",
              "      <th>movieId</th>\n",
              "      <th>rating</th>\n",
              "      <th>timestamp</th>\n",
              "      <th>title</th>\n",
              "      <th>genres</th>\n",
              "      <th>user_id_index</th>\n",
              "      <th>movie_id_index</th>\n",
              "    </tr>\n",
              "  </thead>\n",
              "  <tbody>\n",
              "    <tr>\n",
              "      <th>0</th>\n",
              "      <td>1</td>\n",
              "      <td>1193</td>\n",
              "      <td>5</td>\n",
              "      <td>978300760</td>\n",
              "      <td>One Flew Over the Cuckoo's Nest (1975)</td>\n",
              "      <td>Drama</td>\n",
              "      <td>0</td>\n",
              "      <td>0</td>\n",
              "    </tr>\n",
              "    <tr>\n",
              "      <th>1</th>\n",
              "      <td>2</td>\n",
              "      <td>1193</td>\n",
              "      <td>5</td>\n",
              "      <td>978298413</td>\n",
              "      <td>One Flew Over the Cuckoo's Nest (1975)</td>\n",
              "      <td>Drama</td>\n",
              "      <td>1</td>\n",
              "      <td>0</td>\n",
              "    </tr>\n",
              "    <tr>\n",
              "      <th>2</th>\n",
              "      <td>12</td>\n",
              "      <td>1193</td>\n",
              "      <td>4</td>\n",
              "      <td>978220179</td>\n",
              "      <td>One Flew Over the Cuckoo's Nest (1975)</td>\n",
              "      <td>Drama</td>\n",
              "      <td>2</td>\n",
              "      <td>0</td>\n",
              "    </tr>\n",
              "    <tr>\n",
              "      <th>3</th>\n",
              "      <td>15</td>\n",
              "      <td>1193</td>\n",
              "      <td>4</td>\n",
              "      <td>978199279</td>\n",
              "      <td>One Flew Over the Cuckoo's Nest (1975)</td>\n",
              "      <td>Drama</td>\n",
              "      <td>3</td>\n",
              "      <td>0</td>\n",
              "    </tr>\n",
              "    <tr>\n",
              "      <th>4</th>\n",
              "      <td>17</td>\n",
              "      <td>1193</td>\n",
              "      <td>5</td>\n",
              "      <td>978158471</td>\n",
              "      <td>One Flew Over the Cuckoo's Nest (1975)</td>\n",
              "      <td>Drama</td>\n",
              "      <td>4</td>\n",
              "      <td>0</td>\n",
              "    </tr>\n",
              "  </tbody>\n",
              "</table>\n",
              "</div>"
            ],
            "text/plain": [
              "   userId  movieId  rating  ...  genres user_id_index movie_id_index\n",
              "0       1     1193       5  ...   Drama             0              0\n",
              "1       2     1193       5  ...   Drama             1              0\n",
              "2      12     1193       4  ...   Drama             2              0\n",
              "3      15     1193       4  ...   Drama             3              0\n",
              "4      17     1193       5  ...   Drama             4              0\n",
              "\n",
              "[5 rows x 8 columns]"
            ]
          },
          "metadata": {
            "tags": []
          },
          "execution_count": 28
        }
      ]
    },
    {
      "cell_type": "code",
      "metadata": {
        "id": "aNbP0zjAxImy",
        "colab": {
          "base_uri": "https://localhost:8080/",
          "height": 284
        },
        "outputId": "729c4c2b-799b-42d3-e202-b744a7e75e40"
      },
      "source": [
        "ratings.loc[ratings[\"userId\"] == 387, :].head(8)"
      ],
      "execution_count": null,
      "outputs": [
        {
          "output_type": "execute_result",
          "data": {
            "text/html": [
              "<div>\n",
              "<style scoped>\n",
              "    .dataframe tbody tr th:only-of-type {\n",
              "        vertical-align: middle;\n",
              "    }\n",
              "\n",
              "    .dataframe tbody tr th {\n",
              "        vertical-align: top;\n",
              "    }\n",
              "\n",
              "    .dataframe thead th {\n",
              "        text-align: right;\n",
              "    }\n",
              "</style>\n",
              "<table border=\"1\" class=\"dataframe\">\n",
              "  <thead>\n",
              "    <tr style=\"text-align: right;\">\n",
              "      <th></th>\n",
              "      <th>userId</th>\n",
              "      <th>movieId</th>\n",
              "      <th>rating</th>\n",
              "      <th>timestamp</th>\n",
              "      <th>title</th>\n",
              "      <th>genres</th>\n",
              "      <th>user_id_index</th>\n",
              "      <th>movie_id_index</th>\n",
              "    </tr>\n",
              "  </thead>\n",
              "  <tbody>\n",
              "    <tr>\n",
              "      <th>6054</th>\n",
              "      <td>387</td>\n",
              "      <td>1197</td>\n",
              "      <td>5</td>\n",
              "      <td>979421280</td>\n",
              "      <td>Princess Bride, The (1987)</td>\n",
              "      <td>Action|Adventure|Comedy|Romance</td>\n",
              "      <td>3666</td>\n",
              "      <td>5</td>\n",
              "    </tr>\n",
              "    <tr>\n",
              "      <th>20263</th>\n",
              "      <td>387</td>\n",
              "      <td>2797</td>\n",
              "      <td>4</td>\n",
              "      <td>977280126</td>\n",
              "      <td>Big (1988)</td>\n",
              "      <td>Comedy|Fantasy</td>\n",
              "      <td>3666</td>\n",
              "      <td>19</td>\n",
              "    </tr>\n",
              "    <tr>\n",
              "      <th>32809</th>\n",
              "      <td>387</td>\n",
              "      <td>745</td>\n",
              "      <td>5</td>\n",
              "      <td>976299594</td>\n",
              "      <td>Close Shave, A (1995)</td>\n",
              "      <td>Animation|Comedy|Thriller</td>\n",
              "      <td>3666</td>\n",
              "      <td>29</td>\n",
              "    </tr>\n",
              "    <tr>\n",
              "      <th>46937</th>\n",
              "      <td>387</td>\n",
              "      <td>260</td>\n",
              "      <td>5</td>\n",
              "      <td>977280126</td>\n",
              "      <td>Star Wars: Episode IV - A New Hope (1977)</td>\n",
              "      <td>Action|Adventure|Fantasy|Sci-Fi</td>\n",
              "      <td>3666</td>\n",
              "      <td>44</td>\n",
              "    </tr>\n",
              "    <tr>\n",
              "      <th>65759</th>\n",
              "      <td>387</td>\n",
              "      <td>2628</td>\n",
              "      <td>4</td>\n",
              "      <td>977280224</td>\n",
              "      <td>Star Wars: Episode I - The Phantom Menace (1999)</td>\n",
              "      <td>Action|Adventure|Fantasy|Sci-Fi</td>\n",
              "      <td>3666</td>\n",
              "      <td>60</td>\n",
              "    </tr>\n",
              "    <tr>\n",
              "      <th>70908</th>\n",
              "      <td>387</td>\n",
              "      <td>1210</td>\n",
              "      <td>3</td>\n",
              "      <td>976298892</td>\n",
              "      <td>Star Wars: Episode VI - Return of the Jedi (1983)</td>\n",
              "      <td>Action|Adventure|Romance|Sci-Fi|War</td>\n",
              "      <td>3666</td>\n",
              "      <td>64</td>\n",
              "    </tr>\n",
              "    <tr>\n",
              "      <th>81447</th>\n",
              "      <td>387</td>\n",
              "      <td>3108</td>\n",
              "      <td>3</td>\n",
              "      <td>977279809</td>\n",
              "      <td>Fisher King, The (1991)</td>\n",
              "      <td>Comedy|Drama|Romance</td>\n",
              "      <td>3666</td>\n",
              "      <td>75</td>\n",
              "    </tr>\n",
              "    <tr>\n",
              "      <th>92680</th>\n",
              "      <td>387</td>\n",
              "      <td>1188</td>\n",
              "      <td>5</td>\n",
              "      <td>977279619</td>\n",
              "      <td>Strictly Ballroom (1992)</td>\n",
              "      <td>Comedy|Romance</td>\n",
              "      <td>3666</td>\n",
              "      <td>88</td>\n",
              "    </tr>\n",
              "  </tbody>\n",
              "</table>\n",
              "</div>"
            ],
            "text/plain": [
              "       userId  movieId  ...  user_id_index  movie_id_index\n",
              "6054      387     1197  ...           3666               5\n",
              "20263     387     2797  ...           3666              19\n",
              "32809     387      745  ...           3666              29\n",
              "46937     387      260  ...           3666              44\n",
              "65759     387     2628  ...           3666              60\n",
              "70908     387     1210  ...           3666              64\n",
              "81447     387     3108  ...           3666              75\n",
              "92680     387     1188  ...           3666              88\n",
              "\n",
              "[8 rows x 8 columns]"
            ]
          },
          "metadata": {
            "tags": []
          },
          "execution_count": 29
        }
      ]
    },
    {
      "cell_type": "code",
      "metadata": {
        "id": "-Pj6MOa4xLbm",
        "colab": {
          "base_uri": "https://localhost:8080/",
          "height": 34
        },
        "outputId": "faaf9be2-dcb2-4f89-aa3a-38ea70262cc3"
      },
      "source": [
        "scaler.inverse_transform(model.predict([np.array([3666]), np.array([44])]))"
      ],
      "execution_count": null,
      "outputs": [
        {
          "output_type": "execute_result",
          "data": {
            "text/plain": [
              "array([[4.515724]], dtype=float32)"
            ]
          },
          "metadata": {
            "tags": []
          },
          "execution_count": 30
        }
      ]
    },
    {
      "cell_type": "markdown",
      "metadata": {
        "id": "iDSJkpVuxslj"
      },
      "source": [
        "# Let's Inspect The Embeddings"
      ]
    },
    {
      "cell_type": "code",
      "metadata": {
        "id": "9dczxS5WxwPj",
        "colab": {
          "base_uri": "https://localhost:8080/",
          "height": 252
        },
        "outputId": "89c2c19b-6882-4f8e-d331-8071932379ee"
      },
      "source": [
        "model.layers"
      ],
      "execution_count": null,
      "outputs": [
        {
          "output_type": "execute_result",
          "data": {
            "text/plain": [
              "[<keras.engine.input_layer.InputLayer at 0x7f3e194688d0>,\n",
              " <keras.engine.input_layer.InputLayer at 0x7f3e19468908>,\n",
              " <keras.layers.embeddings.Embedding at 0x7f3e19468898>,\n",
              " <keras.layers.embeddings.Embedding at 0x7f3e19468ef0>,\n",
              " <keras.layers.merge.Concatenate at 0x7f3e19468d68>,\n",
              " <keras.layers.core.Flatten at 0x7f3e19468a20>,\n",
              " <keras.layers.core.Dropout at 0x7f3e1a6cb358>,\n",
              " <keras.layers.core.Dense at 0x7f3e1a6dc9e8>,\n",
              " <keras.layers.core.Dropout at 0x7f3e1a6e39b0>,\n",
              " <keras.layers.core.Dense at 0x7f3e1952ffd0>,\n",
              " <keras.layers.core.Dropout at 0x7f3e19540908>,\n",
              " <keras.layers.core.Dense at 0x7f3e1954c4a8>,\n",
              " <keras.layers.core.Dropout at 0x7f3e19553cc0>,\n",
              " <keras.layers.core.Dense at 0x7f3e19561b00>]"
            ]
          },
          "metadata": {
            "tags": []
          },
          "execution_count": 31
        }
      ]
    },
    {
      "cell_type": "code",
      "metadata": {
        "id": "LXcgyMZAxxCR"
      },
      "source": [
        "user_embed = pd.DataFrame(model.layers[2].get_weights()[0])\n",
        "movie_embed = pd.DataFrame(model.layers[3].get_weights()[0])"
      ],
      "execution_count": null,
      "outputs": []
    },
    {
      "cell_type": "code",
      "metadata": {
        "id": "_28iUJ1Fxyyp",
        "colab": {
          "base_uri": "https://localhost:8080/",
          "height": 215
        },
        "outputId": "44904c52-3746-45ac-9eee-627655f493aa"
      },
      "source": [
        "movie_embed.head()"
      ],
      "execution_count": null,
      "outputs": [
        {
          "output_type": "execute_result",
          "data": {
            "text/html": [
              "<div>\n",
              "<style scoped>\n",
              "    .dataframe tbody tr th:only-of-type {\n",
              "        vertical-align: middle;\n",
              "    }\n",
              "\n",
              "    .dataframe tbody tr th {\n",
              "        vertical-align: top;\n",
              "    }\n",
              "\n",
              "    .dataframe thead th {\n",
              "        text-align: right;\n",
              "    }\n",
              "</style>\n",
              "<table border=\"1\" class=\"dataframe\">\n",
              "  <thead>\n",
              "    <tr style=\"text-align: right;\">\n",
              "      <th></th>\n",
              "      <th>0</th>\n",
              "      <th>1</th>\n",
              "      <th>2</th>\n",
              "      <th>3</th>\n",
              "      <th>4</th>\n",
              "      <th>5</th>\n",
              "      <th>6</th>\n",
              "      <th>7</th>\n",
              "      <th>8</th>\n",
              "      <th>9</th>\n",
              "      <th>10</th>\n",
              "      <th>11</th>\n",
              "      <th>12</th>\n",
              "      <th>13</th>\n",
              "      <th>14</th>\n",
              "      <th>15</th>\n",
              "      <th>16</th>\n",
              "      <th>17</th>\n",
              "      <th>18</th>\n",
              "      <th>19</th>\n",
              "      <th>20</th>\n",
              "      <th>21</th>\n",
              "      <th>22</th>\n",
              "      <th>23</th>\n",
              "      <th>24</th>\n",
              "      <th>25</th>\n",
              "      <th>26</th>\n",
              "      <th>27</th>\n",
              "      <th>28</th>\n",
              "      <th>29</th>\n",
              "      <th>30</th>\n",
              "      <th>31</th>\n",
              "      <th>32</th>\n",
              "      <th>33</th>\n",
              "      <th>34</th>\n",
              "      <th>35</th>\n",
              "      <th>36</th>\n",
              "      <th>37</th>\n",
              "      <th>38</th>\n",
              "      <th>39</th>\n",
              "      <th>40</th>\n",
              "      <th>41</th>\n",
              "      <th>42</th>\n",
              "      <th>43</th>\n",
              "      <th>44</th>\n",
              "      <th>45</th>\n",
              "      <th>46</th>\n",
              "      <th>47</th>\n",
              "      <th>48</th>\n",
              "      <th>49</th>\n",
              "    </tr>\n",
              "  </thead>\n",
              "  <tbody>\n",
              "    <tr>\n",
              "      <th>0</th>\n",
              "      <td>0.253975</td>\n",
              "      <td>0.176474</td>\n",
              "      <td>0.090010</td>\n",
              "      <td>-0.222203</td>\n",
              "      <td>-0.164028</td>\n",
              "      <td>-0.316189</td>\n",
              "      <td>0.268266</td>\n",
              "      <td>0.179048</td>\n",
              "      <td>-0.078391</td>\n",
              "      <td>0.080679</td>\n",
              "      <td>-0.161565</td>\n",
              "      <td>0.311383</td>\n",
              "      <td>-0.211504</td>\n",
              "      <td>0.134101</td>\n",
              "      <td>-0.152182</td>\n",
              "      <td>0.105115</td>\n",
              "      <td>0.066978</td>\n",
              "      <td>-0.245904</td>\n",
              "      <td>0.140979</td>\n",
              "      <td>0.164956</td>\n",
              "      <td>-0.041534</td>\n",
              "      <td>0.099636</td>\n",
              "      <td>0.072998</td>\n",
              "      <td>0.265233</td>\n",
              "      <td>0.200597</td>\n",
              "      <td>-0.247563</td>\n",
              "      <td>-0.206965</td>\n",
              "      <td>0.097533</td>\n",
              "      <td>0.043180</td>\n",
              "      <td>-0.033883</td>\n",
              "      <td>0.140361</td>\n",
              "      <td>0.280340</td>\n",
              "      <td>-0.086754</td>\n",
              "      <td>0.027525</td>\n",
              "      <td>-0.060140</td>\n",
              "      <td>-0.029645</td>\n",
              "      <td>-0.134235</td>\n",
              "      <td>0.198926</td>\n",
              "      <td>-0.235489</td>\n",
              "      <td>-0.135251</td>\n",
              "      <td>-0.228711</td>\n",
              "      <td>0.114509</td>\n",
              "      <td>-0.098725</td>\n",
              "      <td>0.186161</td>\n",
              "      <td>-0.245980</td>\n",
              "      <td>-0.203669</td>\n",
              "      <td>-0.039672</td>\n",
              "      <td>0.032241</td>\n",
              "      <td>0.124948</td>\n",
              "      <td>0.009561</td>\n",
              "    </tr>\n",
              "    <tr>\n",
              "      <th>1</th>\n",
              "      <td>-0.165665</td>\n",
              "      <td>-0.048002</td>\n",
              "      <td>0.093160</td>\n",
              "      <td>-0.161948</td>\n",
              "      <td>-0.071063</td>\n",
              "      <td>-0.074441</td>\n",
              "      <td>-0.054185</td>\n",
              "      <td>0.076814</td>\n",
              "      <td>-0.066596</td>\n",
              "      <td>-0.047965</td>\n",
              "      <td>-0.063991</td>\n",
              "      <td>0.133271</td>\n",
              "      <td>-0.068977</td>\n",
              "      <td>-0.005964</td>\n",
              "      <td>-0.069055</td>\n",
              "      <td>0.184843</td>\n",
              "      <td>0.198952</td>\n",
              "      <td>-0.113733</td>\n",
              "      <td>-0.021789</td>\n",
              "      <td>-0.171780</td>\n",
              "      <td>0.201950</td>\n",
              "      <td>-0.238482</td>\n",
              "      <td>0.097718</td>\n",
              "      <td>-0.050299</td>\n",
              "      <td>0.085290</td>\n",
              "      <td>-0.010260</td>\n",
              "      <td>0.032322</td>\n",
              "      <td>-0.025323</td>\n",
              "      <td>0.278816</td>\n",
              "      <td>-0.030457</td>\n",
              "      <td>0.212769</td>\n",
              "      <td>-0.051997</td>\n",
              "      <td>0.011985</td>\n",
              "      <td>-0.255332</td>\n",
              "      <td>-0.060123</td>\n",
              "      <td>0.104254</td>\n",
              "      <td>0.074663</td>\n",
              "      <td>0.011087</td>\n",
              "      <td>0.010397</td>\n",
              "      <td>-0.115894</td>\n",
              "      <td>0.045316</td>\n",
              "      <td>-0.102143</td>\n",
              "      <td>-0.074972</td>\n",
              "      <td>-0.231530</td>\n",
              "      <td>0.011884</td>\n",
              "      <td>-0.099963</td>\n",
              "      <td>-0.073384</td>\n",
              "      <td>-0.033952</td>\n",
              "      <td>0.063121</td>\n",
              "      <td>-0.132364</td>\n",
              "    </tr>\n",
              "    <tr>\n",
              "      <th>2</th>\n",
              "      <td>0.114560</td>\n",
              "      <td>0.320287</td>\n",
              "      <td>0.076128</td>\n",
              "      <td>0.038032</td>\n",
              "      <td>-0.280784</td>\n",
              "      <td>-0.041754</td>\n",
              "      <td>0.195205</td>\n",
              "      <td>0.199150</td>\n",
              "      <td>0.101836</td>\n",
              "      <td>0.277131</td>\n",
              "      <td>0.191714</td>\n",
              "      <td>0.064329</td>\n",
              "      <td>-0.107977</td>\n",
              "      <td>0.145088</td>\n",
              "      <td>-0.060287</td>\n",
              "      <td>-0.032678</td>\n",
              "      <td>0.318184</td>\n",
              "      <td>-0.097416</td>\n",
              "      <td>-0.111355</td>\n",
              "      <td>0.164856</td>\n",
              "      <td>-0.098647</td>\n",
              "      <td>-0.075861</td>\n",
              "      <td>-0.099364</td>\n",
              "      <td>0.088708</td>\n",
              "      <td>0.123056</td>\n",
              "      <td>-0.161307</td>\n",
              "      <td>-0.168974</td>\n",
              "      <td>0.026912</td>\n",
              "      <td>-0.150975</td>\n",
              "      <td>0.070641</td>\n",
              "      <td>0.119389</td>\n",
              "      <td>0.021584</td>\n",
              "      <td>-0.028378</td>\n",
              "      <td>0.103697</td>\n",
              "      <td>-0.090448</td>\n",
              "      <td>-0.233003</td>\n",
              "      <td>0.047752</td>\n",
              "      <td>0.134897</td>\n",
              "      <td>-0.054552</td>\n",
              "      <td>-0.015164</td>\n",
              "      <td>-0.142052</td>\n",
              "      <td>0.085196</td>\n",
              "      <td>0.128865</td>\n",
              "      <td>-0.079236</td>\n",
              "      <td>0.049123</td>\n",
              "      <td>-0.069657</td>\n",
              "      <td>-0.276010</td>\n",
              "      <td>0.115363</td>\n",
              "      <td>-0.224775</td>\n",
              "      <td>0.066536</td>\n",
              "    </tr>\n",
              "    <tr>\n",
              "      <th>3</th>\n",
              "      <td>0.116039</td>\n",
              "      <td>0.386919</td>\n",
              "      <td>0.111326</td>\n",
              "      <td>0.402479</td>\n",
              "      <td>0.150024</td>\n",
              "      <td>-0.048989</td>\n",
              "      <td>0.051012</td>\n",
              "      <td>0.038528</td>\n",
              "      <td>0.095663</td>\n",
              "      <td>0.255240</td>\n",
              "      <td>0.089748</td>\n",
              "      <td>0.082457</td>\n",
              "      <td>-0.051847</td>\n",
              "      <td>-0.034693</td>\n",
              "      <td>-0.168885</td>\n",
              "      <td>-0.169565</td>\n",
              "      <td>-0.025211</td>\n",
              "      <td>-0.105543</td>\n",
              "      <td>-0.121684</td>\n",
              "      <td>0.026756</td>\n",
              "      <td>-0.143365</td>\n",
              "      <td>-0.068494</td>\n",
              "      <td>-0.141014</td>\n",
              "      <td>-0.018097</td>\n",
              "      <td>-0.150213</td>\n",
              "      <td>-0.125496</td>\n",
              "      <td>-0.056310</td>\n",
              "      <td>0.164102</td>\n",
              "      <td>-0.295533</td>\n",
              "      <td>0.137185</td>\n",
              "      <td>0.042396</td>\n",
              "      <td>-0.052641</td>\n",
              "      <td>0.305431</td>\n",
              "      <td>0.158996</td>\n",
              "      <td>0.129160</td>\n",
              "      <td>-0.061563</td>\n",
              "      <td>0.251933</td>\n",
              "      <td>-0.075277</td>\n",
              "      <td>-0.109333</td>\n",
              "      <td>-0.027790</td>\n",
              "      <td>-0.015653</td>\n",
              "      <td>-0.059224</td>\n",
              "      <td>0.061455</td>\n",
              "      <td>-0.177581</td>\n",
              "      <td>0.053907</td>\n",
              "      <td>0.210007</td>\n",
              "      <td>-0.219839</td>\n",
              "      <td>0.068278</td>\n",
              "      <td>-0.347930</td>\n",
              "      <td>-0.160063</td>\n",
              "    </tr>\n",
              "    <tr>\n",
              "      <th>4</th>\n",
              "      <td>0.061016</td>\n",
              "      <td>0.294981</td>\n",
              "      <td>0.078544</td>\n",
              "      <td>-0.236874</td>\n",
              "      <td>-0.140850</td>\n",
              "      <td>-0.265434</td>\n",
              "      <td>0.037401</td>\n",
              "      <td>-0.028857</td>\n",
              "      <td>-0.036876</td>\n",
              "      <td>-0.148859</td>\n",
              "      <td>0.112146</td>\n",
              "      <td>-0.046558</td>\n",
              "      <td>-0.076214</td>\n",
              "      <td>0.187291</td>\n",
              "      <td>-0.111888</td>\n",
              "      <td>-0.155056</td>\n",
              "      <td>0.279060</td>\n",
              "      <td>0.132614</td>\n",
              "      <td>-0.014471</td>\n",
              "      <td>-0.063101</td>\n",
              "      <td>-0.208827</td>\n",
              "      <td>-0.245496</td>\n",
              "      <td>0.012176</td>\n",
              "      <td>0.103271</td>\n",
              "      <td>-0.111076</td>\n",
              "      <td>-0.137504</td>\n",
              "      <td>-0.022666</td>\n",
              "      <td>0.177393</td>\n",
              "      <td>0.239965</td>\n",
              "      <td>0.114255</td>\n",
              "      <td>-0.080960</td>\n",
              "      <td>-0.133743</td>\n",
              "      <td>0.037533</td>\n",
              "      <td>0.158676</td>\n",
              "      <td>0.144071</td>\n",
              "      <td>-0.137683</td>\n",
              "      <td>-0.112132</td>\n",
              "      <td>-0.054829</td>\n",
              "      <td>0.138350</td>\n",
              "      <td>-0.091319</td>\n",
              "      <td>0.021922</td>\n",
              "      <td>0.153021</td>\n",
              "      <td>-0.070286</td>\n",
              "      <td>-0.143328</td>\n",
              "      <td>-0.083110</td>\n",
              "      <td>-0.174044</td>\n",
              "      <td>-0.195893</td>\n",
              "      <td>0.129707</td>\n",
              "      <td>-0.167120</td>\n",
              "      <td>0.103428</td>\n",
              "    </tr>\n",
              "  </tbody>\n",
              "</table>\n",
              "</div>"
            ],
            "text/plain": [
              "         0         1         2   ...        47        48        49\n",
              "0  0.253975  0.176474  0.090010  ...  0.032241  0.124948  0.009561\n",
              "1 -0.165665 -0.048002  0.093160  ... -0.033952  0.063121 -0.132364\n",
              "2  0.114560  0.320287  0.076128  ...  0.115363 -0.224775  0.066536\n",
              "3  0.116039  0.386919  0.111326  ...  0.068278 -0.347930 -0.160063\n",
              "4  0.061016  0.294981  0.078544  ...  0.129707 -0.167120  0.103428\n",
              "\n",
              "[5 rows x 50 columns]"
            ]
          },
          "metadata": {
            "tags": []
          },
          "execution_count": 33
        }
      ]
    },
    {
      "cell_type": "code",
      "metadata": {
        "id": "kWTYFdhvxz5x",
        "colab": {
          "base_uri": "https://localhost:8080/",
          "height": 195
        },
        "outputId": "7c8dc27a-11a4-43d7-ea0b-fa408326116f"
      },
      "source": [
        "ratings.head()"
      ],
      "execution_count": null,
      "outputs": [
        {
          "output_type": "execute_result",
          "data": {
            "text/html": [
              "<div>\n",
              "<style scoped>\n",
              "    .dataframe tbody tr th:only-of-type {\n",
              "        vertical-align: middle;\n",
              "    }\n",
              "\n",
              "    .dataframe tbody tr th {\n",
              "        vertical-align: top;\n",
              "    }\n",
              "\n",
              "    .dataframe thead th {\n",
              "        text-align: right;\n",
              "    }\n",
              "</style>\n",
              "<table border=\"1\" class=\"dataframe\">\n",
              "  <thead>\n",
              "    <tr style=\"text-align: right;\">\n",
              "      <th></th>\n",
              "      <th>userId</th>\n",
              "      <th>movieId</th>\n",
              "      <th>rating</th>\n",
              "      <th>timestamp</th>\n",
              "      <th>title</th>\n",
              "      <th>genres</th>\n",
              "      <th>user_id_index</th>\n",
              "      <th>movie_id_index</th>\n",
              "    </tr>\n",
              "  </thead>\n",
              "  <tbody>\n",
              "    <tr>\n",
              "      <th>0</th>\n",
              "      <td>1</td>\n",
              "      <td>1193</td>\n",
              "      <td>5</td>\n",
              "      <td>978300760</td>\n",
              "      <td>One Flew Over the Cuckoo's Nest (1975)</td>\n",
              "      <td>Drama</td>\n",
              "      <td>0</td>\n",
              "      <td>0</td>\n",
              "    </tr>\n",
              "    <tr>\n",
              "      <th>1</th>\n",
              "      <td>2</td>\n",
              "      <td>1193</td>\n",
              "      <td>5</td>\n",
              "      <td>978298413</td>\n",
              "      <td>One Flew Over the Cuckoo's Nest (1975)</td>\n",
              "      <td>Drama</td>\n",
              "      <td>1</td>\n",
              "      <td>0</td>\n",
              "    </tr>\n",
              "    <tr>\n",
              "      <th>2</th>\n",
              "      <td>12</td>\n",
              "      <td>1193</td>\n",
              "      <td>4</td>\n",
              "      <td>978220179</td>\n",
              "      <td>One Flew Over the Cuckoo's Nest (1975)</td>\n",
              "      <td>Drama</td>\n",
              "      <td>2</td>\n",
              "      <td>0</td>\n",
              "    </tr>\n",
              "    <tr>\n",
              "      <th>3</th>\n",
              "      <td>15</td>\n",
              "      <td>1193</td>\n",
              "      <td>4</td>\n",
              "      <td>978199279</td>\n",
              "      <td>One Flew Over the Cuckoo's Nest (1975)</td>\n",
              "      <td>Drama</td>\n",
              "      <td>3</td>\n",
              "      <td>0</td>\n",
              "    </tr>\n",
              "    <tr>\n",
              "      <th>4</th>\n",
              "      <td>17</td>\n",
              "      <td>1193</td>\n",
              "      <td>5</td>\n",
              "      <td>978158471</td>\n",
              "      <td>One Flew Over the Cuckoo's Nest (1975)</td>\n",
              "      <td>Drama</td>\n",
              "      <td>4</td>\n",
              "      <td>0</td>\n",
              "    </tr>\n",
              "  </tbody>\n",
              "</table>\n",
              "</div>"
            ],
            "text/plain": [
              "   userId  movieId  rating  ...  genres user_id_index movie_id_index\n",
              "0       1     1193       5  ...   Drama             0              0\n",
              "1       2     1193       5  ...   Drama             1              0\n",
              "2      12     1193       4  ...   Drama             2              0\n",
              "3      15     1193       4  ...   Drama             3              0\n",
              "4      17     1193       5  ...   Drama             4              0\n",
              "\n",
              "[5 rows x 8 columns]"
            ]
          },
          "metadata": {
            "tags": []
          },
          "execution_count": 34
        }
      ]
    },
    {
      "cell_type": "code",
      "metadata": {
        "id": "LfHPAzw_x2Ph"
      },
      "source": [
        "class color:\n",
        "    PURPLE = '\\033[95m'\n",
        "    CYAN = '\\033[96m'\n",
        "    DARKCYAN = '\\033[36m'\n",
        "    BLUE = '\\033[94m'\n",
        "    GREEN = '\\033[92m'\n",
        "    YELLOW = '\\033[93m'\n",
        "    RED = '\\033[91m'\n",
        "    BOLD = '\\033[1m'\n",
        "    UNDERLINE = '\\033[4m'\n",
        "    END = '\\033[0m'"
      ],
      "execution_count": null,
      "outputs": []
    },
    {
      "cell_type": "code",
      "metadata": {
        "id": "HxBeTqoHx3oh"
      },
      "source": [
        "def findMostSimilarMovies(ratings, movie_embed, movie_id):\n",
        "    \n",
        "    selectedMovie_index = ratings.loc[ratings[\"movieId\"] == movie_id, \"movie_id_index\"].unique()[0]\n",
        "    print(\"Name of Movie is {}\".format(ratings.loc[ratings[\"movieId\"] == movie_id, \"title\"].unique()[0]))\n",
        "    \n",
        "    selected_embedding = movie_embed.loc[selectedMovie_index, :].to_numpy()\n",
        "    movie_embed = movie_embed.to_numpy()\n",
        "    \n",
        "    distance = np.zeros(movie_embed.shape[0])\n",
        "    for i, movie in enumerate(movie_embed):\n",
        "        distance[i] = 1 - spatial.distance.cosine(selected_embedding, movie)\n",
        "    most_similars = np.argsort(distance)[-2:-11:-1]\n",
        "    \n",
        "    print(\"\\n\")\n",
        "    print(\"Recommended Movies\")\n",
        "    print(\"=\" * 20)\n",
        "    for sim in most_similars:\n",
        "        rec_movie_name = ratings.loc[ratings[\"movie_id_index\"] == sim , \"title\"].unique()[0]\n",
        "        rec_movie_genres = ratings.loc[ratings[\"movie_id_index\"] == sim , \"genres\"].unique()[0]\n",
        "        print(color.BOLD + color.BLUE + \"Movie Name is => {0}, Movie Genres are {1}\".format(rec_movie_name, rec_movie_genres))\n",
        "    \n",
        "    return None"
      ],
      "execution_count": null,
      "outputs": []
    },
    {
      "cell_type": "code",
      "metadata": {
        "id": "gYeLFPmBx5FV",
        "colab": {
          "base_uri": "https://localhost:8080/",
          "height": 252
        },
        "outputId": "2672db70-95d0-4ae6-e489-38fa9e4d4401"
      },
      "source": [
        "findMostSimilarMovies(ratings, movie_embed, 1210)"
      ],
      "execution_count": null,
      "outputs": [
        {
          "output_type": "stream",
          "text": [
            "Name of Movie is Star Wars: Episode VI - Return of the Jedi (1983)\n",
            "\n",
            "\n",
            "Recommended Movies\n",
            "====================\n",
            "\u001b[1m\u001b[94mMovie Name is => Star Wars: Episode V - The Empire Strikes Back (1980), Movie Genres are Action|Adventure|Drama|Sci-Fi|War\n",
            "\u001b[1m\u001b[94mMovie Name is => Star Wars: Episode IV - A New Hope (1977), Movie Genres are Action|Adventure|Fantasy|Sci-Fi\n",
            "\u001b[1m\u001b[94mMovie Name is => Indiana Jones and the Last Crusade (1989), Movie Genres are Action|Adventure\n",
            "\u001b[1m\u001b[94mMovie Name is => Star Wars: Episode I - The Phantom Menace (1999), Movie Genres are Action|Adventure|Fantasy|Sci-Fi\n",
            "\u001b[1m\u001b[94mMovie Name is => Braveheart (1995), Movie Genres are Action|Drama|War\n",
            "\u001b[1m\u001b[94mMovie Name is => Shawshank Redemption, The (1994), Movie Genres are Drama\n",
            "\u001b[1m\u001b[94mMovie Name is => Young Guns (1988), Movie Genres are Action|Comedy|Western\n",
            "\u001b[1m\u001b[94mMovie Name is => Caddyshack (1980), Movie Genres are Comedy\n",
            "\u001b[1m\u001b[94mMovie Name is => Vacation (1983), Movie Genres are Comedy\n"
          ],
          "name": "stdout"
        }
      ]
    },
    {
      "cell_type": "code",
      "metadata": {
        "id": "yHu_oDXxx-ht",
        "colab": {
          "base_uri": "https://localhost:8080/",
          "height": 134
        },
        "outputId": "0d21bdef-94e8-4b95-af07-f9593b3953ba"
      },
      "source": [
        "def findMostSimilarUsers(ratings, user_embed, user_id):\n",
        "    \n",
        "    selectedUser_index = ratings.loc[ratings[\"userId\"] == user_id, \"user_id_index\"].unique()[0]\n",
        "    \n",
        "    selected_embedding = user_embed.loc[selectedUser_index, :].to_numpy()\n",
        "    user_embed = user_embed.to_numpy()\n",
        "    \n",
        "    distance = np.zeros(user_embed.shape[0])\n",
        "    for i, user in enumerate(user_embed):\n",
        "        distance[i] = 1 - spatial.distance.cosine(selected_embedding, user)\n",
        "    most_similars = np.argsort(distance)[-2:-5:-1]\n",
        "    \n",
        "    print(\"\\n\")\n",
        "    print(\"Recommended Movies\")\n",
        "    print(\"=\" * 20)\n",
        "    for sim in most_similars:\n",
        "        rec_user_name = ratings.loc[ratings[\"user_id_index\"] == sim , \"userId\"].unique()[0]\n",
        "        print(color.BOLD + color.BLUE + \"User Name is => {0}\".format(rec_user_name))\n",
        "    \n",
        "    return None\n",
        "\n",
        "findMostSimilarUsers(ratings, user_embed, 189)"
      ],
      "execution_count": null,
      "outputs": [
        {
          "output_type": "stream",
          "text": [
            "\n",
            "\n",
            "Recommended Movies\n",
            "====================\n",
            "\u001b[1m\u001b[94mUser Name is => 2899\n",
            "\u001b[1m\u001b[94mUser Name is => 748\n",
            "\u001b[1m\u001b[94mUser Name is => 278\n"
          ],
          "name": "stdout"
        }
      ]
    }
  ]
}